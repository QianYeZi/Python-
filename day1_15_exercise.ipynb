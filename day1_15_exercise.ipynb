{
 "cells": [
  {
   "cell_type": "code",
   "execution_count": 1,
   "id": "94f003c5-c923-461d-835f-7627604b5a31",
   "metadata": {},
   "outputs": [
    {
     "name": "stdout",
     "output_type": "stream",
     "text": [
      "\u001b[41;97m             跑马灯效果，P\u001b[0m"
     ]
    }
   ],
   "source": [
    "import time\n",
    "import sys\n",
    "\n",
    "# ANSI 转义序列，用于设置文本颜色和背景色\n",
    "def colored_text(text, bg_color=\"41\", fg_color=\"97\"):\n",
    "    \"\"\"为文本添加颜色\n",
    "    参数：\n",
    "    text: 需要显示的文本\n",
    "    bg_color: 背景颜色代码（默认红色背景）\n",
    "    fg_color: 前景颜色代码（默认白色字体）\n",
    "    \"\"\"\n",
    "    return f\"\\033[{bg_color};{fg_color}m{text}\\033[0m\"\n",
    "\n",
    "def marquee_text(text, width, delay, duration, bg_color, fg_color):\n",
    "    \"\"\"在屏幕上滚动显示带颜色的文本，并持续指定时间\n",
    "\n",
    "    参数：\n",
    "    text: 要显示的文本\n",
    "    width: 显示窗口的宽度\n",
    "    dealy: 每次滚动的延迟时间（秒）\n",
    "    duration: 滚动效果持续时间（秒）\n",
    "    bg_color: 背景颜色代码\n",
    "    fg_color: 前景颜色代码\n",
    "    \"\"\"\n",
    "    if len(text) < width:\n",
    "        text += ' ' * (width - len(text))  # 如果文本长度不足，补充空格\n",
    "    text = ' ' * width + text + ' ' * width  # 在文本两侧添加空格\n",
    "    \n",
    "    start_time = time.time()  # 获取开始时间\n",
    "    while time.time() - start_time < duration:  # 持续滚动直到时间达到 duration\n",
    "        for i in range(len(text) - width + 1):\n",
    "            # 为当前文本窗口添加颜色\n",
    "            colored_segment = colored_text(text[i:i+width], bg_color, fg_color)\n",
    "            sys.stdout.write('\\r' + colored_segment)  # 显示带颜色的文本窗口\n",
    "            sys.stdout.flush()  # 刷新输出\n",
    "            time.sleep(delay)  # 每 delay 秒移动一次\n",
    "\n",
    "            # 如果已经达到设定的时间，结束循环\n",
    "            if time.time() - start_time >= duration:\n",
    "                break\n",
    "\n",
    "if __name__ == \"__main__\":\n",
    "    text_to_display = \"跑马灯效果，Python实现！\"\n",
    "    marquee_text(text_to_display,  width=20, delay=0.2, duration=10, bg_color=\"41\", fg_color=\"97\")"
   ]
  },
  {
   "cell_type": "code",
   "execution_count": 23,
   "id": "df555426-41d5-43b3-b6ad-8a7995b05107",
   "metadata": {},
   "outputs": [
    {
     "name": "stdout",
     "output_type": "stream",
     "text": [
      "68zZLbMivu\n"
     ]
    }
   ],
   "source": [
    "# 设计一个函数产生指定长度的验证码，验证码由大小写字母和数字构成\n",
    "import string\n",
    "import random\n",
    "\n",
    "def generate_captcha(length):\n",
    "    if length <= 0 :\n",
    "        return \"Invalid length.\"\n",
    "    characters = string.ascii_letters + string.digits\n",
    "    captcha = ''.join(random.choice(characters) for _ in range(length))\n",
    "    return captcha\n",
    "    \n",
    "captcha = generate_captcha(10)   \n",
    "print(captcha)\n",
    "    "
   ]
  },
  {
   "cell_type": "code",
   "execution_count": null,
   "id": "3e0662f0-ac77-4820-8456-cee573ac80bb",
   "metadata": {},
   "outputs": [],
   "source": [
    "# 设计一个函数返回给定文件名的后缀名\n"
   ]
  },
  {
   "cell_type": "code",
   "execution_count": null,
   "id": "a88128c2-9ca0-46f4-9bc1-897109fc651e",
   "metadata": {},
   "outputs": [],
   "source": []
  }
 ],
 "metadata": {
  "kernelspec": {
   "display_name": "Python 3 (ipykernel)",
   "language": "python",
   "name": "python3"
  },
  "language_info": {
   "codemirror_mode": {
    "name": "ipython",
    "version": 3
   },
   "file_extension": ".py",
   "mimetype": "text/x-python",
   "name": "python",
   "nbconvert_exporter": "python",
   "pygments_lexer": "ipython3",
   "version": "3.12.4"
  }
 },
 "nbformat": 4,
 "nbformat_minor": 5
}
