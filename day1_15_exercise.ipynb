{
 "cells": [
  {
   "cell_type": "code",
   "execution_count": 4,
   "id": "569074f7-05df-444c-91db-6143f4ca804a",
   "metadata": {},
   "outputs": [
    {
     "name": "stdout",
     "output_type": "stream",
     "text": [
      "             跑马灯效果，P"
     ]
    }
   ],
   "source": [
    "import time\n",
    "import sys\n",
    "\n",
    "# ANSI 转义序列， 用于设置文本颜色和背景色\n",
    "def colored_text(text, bg_color=\"41\", fg_color=\"97\"):\n",
    "    \"\"\"为文本添加颜色\n",
    "    参数：\n",
    "    text: 需要显示的文本\n",
    "    bg_color: 背景颜色代码（默认红色背景）\n",
    "    fg_color: 前景颜色代码（默认白色字体）\n",
    "    \"\"\"\n",
    "    return f\"\"\n",
    "    \n",
    "\n",
    "\n",
    "\n",
    "def marquee_text(text, width=20, delay=0.2, duration=10):\n",
    "    \"\"\"在屏幕上滚动显示文本，并持续指定时间\n",
    "\n",
    "    参数：\n",
    "    text: 要显示的文本\n",
    "    width: 显示窗口的宽度\n",
    "    delay: 每次滚动的延迟时间（秒）\n",
    "    duration: 滚动效果持续时间（秒）\n",
    "    \"\"\"\n",
    "    if len(text) < width:\n",
    "        text = text + ' ' * (width - len(text))  # 如果文本长度不足，补充空格\n",
    "    text = ' ' * width + text + ' ' * width  # 在文本两侧添加空格\n",
    "\n",
    "    start_time = time.time()  # 获取开始时间\n",
    "    while time.time() - start_time < duration:  # 持续滚动直到时间达到 duration\n",
    "        for i in range(len(text) - width + 1):\n",
    "            sys.stdout.write('\\r' + text[i:i+width])  # 显示当前窗口的文本\n",
    "            sys.stdout.flush()  # 刷新输出\n",
    "            time.sleep(delay)\n",
    "\n",
    "            # 如果已经达到设定时间，结束循环\n",
    "            if time.time() - start_time >= duration:\n",
    "                break\n",
    "\n",
    "if __name__ == \"__main__\":\n",
    "    text_to_display = \"跑马灯效果，Python 实现！\"\n",
    "    marquee_text(text_to_display, duration=10)  # 持续滚动 10 秒钟\n"
   ]
  },
  {
   "cell_type": "code",
   "execution_count": 5,
   "id": "da531470-e515-4f42-8229-f844e145bbbf",
   "metadata": {},
   "outputs": [
    {
     "name": "stdout",
     "output_type": "stream",
     "text": [
      "\u001b[44;97m                              \u001b[0m"
     ]
    }
   ],
   "source": [
    "import time\n",
    "import sys\n",
    "\n",
    "# ANSI 转义序列，用于设置文本颜色和背景色\n",
    "def colored_text(text, bg_color=\"41\", fg_color=\"97\"):\n",
    "    \"\"\"为文本添加颜色\n",
    "    参数:\n",
    "    text: 需要显示的文本\n",
    "    bg_color: 背景颜色代码 (默认红色背景)\n",
    "    fg_color: 前景颜色代码 (默认白色字体)\n",
    "    \"\"\"\n",
    "    return f\"\\033[{bg_color};{fg_color}m{text}\\033[0m\"\n",
    "\n",
    "def marquee_text(text, width=20, delay=0.2, duration=10, bg_color=\"41\", fg_color=\"97\"):\n",
    "    \"\"\"在屏幕上滚动显示带颜色的文本，并持续指定时间。\n",
    "    \n",
    "    参数:\n",
    "    text: 要显示的文本\n",
    "    width: 显示窗口的宽度\n",
    "    delay: 每次滚动的延迟时间（秒）\n",
    "    duration: 滚动效果持续时间（秒）\n",
    "    bg_color: 背景颜色代码\n",
    "    fg_color: 前景颜色代码\n",
    "    \"\"\"\n",
    "    if len(text) < width:\n",
    "        text += ' ' * (width - len(text))  # 如果文本长度不足，补充空格\n",
    "    text = ' ' * width + text + ' ' * width  # 在文本两侧添加空格\n",
    "\n",
    "    start_time = time.time()  # 获取开始时间\n",
    "    while time.time() - start_time < duration:  # 持续滚动直到时间达到 duration\n",
    "        for i in range(len(text) - width + 1):\n",
    "            # 为当前文本窗口添加颜色\n",
    "            colored_segment = colored_text(text[i:i+width], bg_color, fg_color)\n",
    "            sys.stdout.write('\\r' + colored_segment)  # 显示带颜色的文本窗口\n",
    "            sys.stdout.flush()  # 刷新输出\n",
    "            time.sleep(delay)\n",
    "\n",
    "            # 如果已经达到设定的时间，结束循环\n",
    "            if time.time() - start_time >= duration:\n",
    "                break\n",
    "\n",
    "if __name__ == \"__main__\":\n",
    "    text_to_display = \"跑马灯效果，Python 实现！\"\n",
    "    marquee_text(text_to_display, width=30, duration=10, bg_color=\"44\", fg_color=\"97\")  # 选择蓝色背景，白色文字\n"
   ]
  }
 ],
 "metadata": {
  "kernelspec": {
   "display_name": "Python 3 (ipykernel)",
   "language": "python",
   "name": "python3"
  },
  "language_info": {
   "codemirror_mode": {
    "name": "ipython",
    "version": 3
   },
   "file_extension": ".py",
   "mimetype": "text/x-python",
   "name": "python",
   "nbconvert_exporter": "python",
   "pygments_lexer": "ipython3",
   "version": "3.12.4"
  }
 },
 "nbformat": 4,
 "nbformat_minor": 5
}
